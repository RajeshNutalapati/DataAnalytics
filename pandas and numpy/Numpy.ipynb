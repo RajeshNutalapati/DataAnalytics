{
 "cells": [
  {
   "cell_type": "code",
   "execution_count": null,
   "metadata": {},
   "outputs": [],
   "source": [
    "NumPy is an incredible library to perform mathematical and statistical operations. \n",
    "It works perfectly well for multi-dimensional arrays and matrices multiplication\n",
    "NumPy is memory efficiency, meaning it can handle the vast amount of data more accessible than any other library. \n",
    "Besides, NumPy is very convenient to work with, especially for matrix multiplication and reshaping. \n",
    "On top of that, NumPy is fast.\n",
    "\n",
    "You can install NumPy using Anaconda:\n",
    "\n",
    "conda install -c anaconda numpy"
   ]
  },
  {
   "cell_type": "code",
   "execution_count": 1,
   "metadata": {},
   "outputs": [
    {
     "name": "stdout",
     "output_type": "stream",
     "text": [
      "1.16.4\n"
     ]
    }
   ],
   "source": [
    "import numpy as np\n",
    "print (np.__version__)"
   ]
  }
 ],
 "metadata": {
  "kernelspec": {
   "display_name": "Python 3",
   "language": "python",
   "name": "python3"
  },
  "language_info": {
   "codemirror_mode": {
    "name": "ipython",
    "version": 3
   },
   "file_extension": ".py",
   "mimetype": "text/x-python",
   "name": "python",
   "nbconvert_exporter": "python",
   "pygments_lexer": "ipython3",
   "version": "3.7.3"
  }
 },
 "nbformat": 4,
 "nbformat_minor": 2
}
