{
 "cells": [
  {
   "cell_type": "code",
   "execution_count": null,
   "metadata": {},
   "outputs": [],
   "source": [
    "Pandas is the most popular python library that is used for data analysis. \n",
    "It provides highly optimized performance with back-end source code is purely written in C or Python.\n",
    "It is an opensource library that allows to you perform data manipulation in Python. \n",
    "Pandas library is built on top of Numpy, meaning Pandas needs Numpy to operate. \n",
    "Pandas provide an easy way to create, manipulate and wrangle the data. Pandas is also an elegant solution for time series data.\n",
    "\n",
    "\n",
    "\n",
    "Best way to Install\n",
    "\n",
    "1. conda install pandas\n",
    "2. pip install pandas\n",
    "\n",
    "We can analyze data in pandas with:\n",
    "\n",
    "1. Series\n",
    "2. DataFrames\n",
    "\n",
    "Series:\n",
    "Series is one dimensional(1-D) array defined in pandas that can be used to store any data type.\n",
    "  \n",
    "Data: \n",
    "A Scalar value which can be integerValue, string\n",
    "A Python Dictionary which can be Key, Value pair\n",
    "A Ndarray\n",
    "Note: Index by default is from 0, 1, 2, …(n-1) where n is length of data."
   ]
  },
  {
   "cell_type": "code",
   "execution_count": 7,
   "metadata": {},
   "outputs": [
    {
     "data": {
      "text/plain": [
       "0     g\n",
       "1     e\n",
       "2     e\n",
       "3     k\n",
       "4     s\n",
       "5     f\n",
       "6     o\n",
       "7     r\n",
       "8     g\n",
       "9     e\n",
       "10    e\n",
       "11    k\n",
       "12    s\n",
       "dtype: object"
      ]
     },
     "execution_count": 7,
     "metadata": {},
     "output_type": "execute_result"
    }
   ],
   "source": [
    "########################### Series #########################################\n",
    "\n",
    "import pandas as pd\n",
    " \n",
    "# a simple list\n",
    "list = ['g','e','e','k','s','f', 'o','r','g','e','e','k','s']\n",
    "  \n",
    "# create series form a list\n",
    "ser = pd.Series(list)\n",
    "ser"
   ]
  }
 ],
 "metadata": {
  "kernelspec": {
   "display_name": "Python 3",
   "language": "python",
   "name": "python3"
  },
  "language_info": {
   "codemirror_mode": {
    "name": "ipython",
    "version": 3
   },
   "file_extension": ".py",
   "mimetype": "text/x-python",
   "name": "python",
   "nbconvert_exporter": "python",
   "pygments_lexer": "ipython3",
   "version": "3.7.3"
  }
 },
 "nbformat": 4,
 "nbformat_minor": 2
}
